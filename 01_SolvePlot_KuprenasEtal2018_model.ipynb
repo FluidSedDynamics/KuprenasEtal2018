{
 "cells": [
  {
   "cell_type": "markdown",
   "metadata": {},
   "source": [
    "# Solve and plot the Kuprenas et al. (2018) modification to the Winterwerp (1998) average floc size model."
   ]
  },
  {
   "cell_type": "code",
   "execution_count": 1,
   "metadata": {},
   "outputs": [
    {
     "name": "stdout",
     "output_type": "stream",
     "text": [
      "Populating the interactive namespace from numpy and matplotlib\n"
     ]
    }
   ],
   "source": [
    "%pylab inline\n",
    "%config InlineBackend.figure_format='retina' # hig-res plots for a Retina display\n",
    "from scipy.integrate import odeint"
   ]
  },
  {
   "cell_type": "markdown",
   "metadata": {},
   "source": [
    "## Define functions"
   ]
  },
  {
   "cell_type": "code",
   "execution_count": 2,
   "metadata": {},
   "outputs": [],
   "source": [
    "# The modified W98 ODE to be integrated: dDdt = A-B\n",
    "def dDdtW98M(D, t, Ka, Kb, nf, Dp, c2, C, G): \n",
    "    q = c1+c2*D/sqrt(nu/G)\n",
    "    A = Ka*(Dp**(nf-3)/(nf*rhos))*G*C*D**(4-nf) # aggregation term\n",
    "    B = Kb*((Dp**(-p))/nf)*(mu/Fy)**q*G**(q+1)*(D-Dp)**p*D**(2*q+1) # breakup term\n",
    "    dDdt = A-B\n",
    "    return dDdt\n",
    "\n",
    "def W98Meq(De,Ka, Kb,Fy, c2, C, G):\n",
    "    q = c1+c2*De/sqrt(nu/G)\n",
    "    return De-(Ka/(Kb*rhos))**(1/(2*q))*(mu/Fy)**(-1/2)*C**(1/(2*q))*G**(-1/2)\n",
    "    \n",
    "def density(To,Sppt):\n",
    "    rho_fresh=1000*(1-(To +288.9414)/(508929.2*(To+68.12963))*(To-3.9863)**2)\n",
    "    Acoef = 0.824493 - 0.0040899*To + 0.000076438*To**2 -0.00000082467*To**3 + 0.0000000053675*To**4\n",
    "    Bcoef = -0.005724 + 0.00010227*To - 0.0000016546*To**2\n",
    "    return rho_fresh + Acoef*Sppt + Bcoef*Sppt**(3/2) + 0.00048314*Sppt**2\n",
    "\n",
    "def visc(To):\n",
    "    return 2.7488e-07+1.4907e-06*exp(-0.034812*To)"
   ]
  },
  {
   "cell_type": "markdown",
   "metadata": {},
   "source": [
    "## Setup and solve"
   ]
  },
  {
   "cell_type": "code",
   "execution_count": 3,
   "metadata": {},
   "outputs": [],
   "source": [
    "\"\"\"\n",
    "User input --------------------------------------------------------\n",
    "\"\"\"\n",
    "# Fluid properties \n",
    "G = 50.          # turbulent shear rate[s-1]\n",
    "To = 20          # temperature in degC\n",
    "Sppt = 0         # salinity in parts per thousand \n",
    "\n",
    "# Sediment properties\n",
    "C = 50/10**3     # suspended sediment concentration [g/L]\n",
    "Dp = 5/10**6     # primary particle size [m]\n",
    "Fy = 1e-10       # floc yeild strength [N]\n",
    "rhos = 2650.     # sediment density [kg/m3]\n",
    "nf = 2.0         # fractal dimension\n",
    "\n",
    "# Calculation inputs \n",
    "tstart_min = 1   # minute to start the integration at\n",
    "tend_min = 1000  # minute to end the integration at\n",
    "D0 = Dp #50/10**6    # floc size at tstart_min [m]\n",
    "Npts = 10000     # number of points in calculation\n",
    "\n",
    "# initial guess for fit values (change if there are convergence issues) \n",
    "Ka = 0.45\n",
    "Kb = 1.16e-6\n",
    "\n",
    "# coefficients for modification to q\n",
    "c1 = 0.5\n",
    "c2 = 1.5\n",
    "\n",
    "\"\"\"\n",
    "Setup calculations ----------------------------------------------------\n",
    "\"\"\"\n",
    "# Pre-integration calcs and array setup\n",
    "rho = density(To,Sppt)\n",
    "nu = visc(To)\n",
    "mu = nu*rho\n",
    "p = 3.-nf\n",
    "eta = sqrt(nu/G)\n",
    "\n",
    "# Setup time array for integration\n",
    "t = linspace(tstart_min*60,tend_min*60,Npts)\n",
    "\n",
    "\"\"\"\n",
    "Solve equation -------------------------------------------------------\n",
    "\"\"\"\n",
    "D = odeint(dDdtW98M, D0, t, args=(Ka, Kb, nf, Dp, c2, C, G))\n",
    "Dfe = D[-1]    # equilibrium model floc size in [m]"
   ]
  },
  {
   "cell_type": "markdown",
   "metadata": {},
   "source": [
    "## Plot"
   ]
  },
  {
   "cell_type": "code",
   "execution_count": 4,
   "metadata": {},
   "outputs": [
    {
     "name": "stdout",
     "output_type": "stream",
     "text": [
      "The equilibrium floc size is: 90.0 [µm]\n"
     ]
    },
    {
     "data": {
      "image/png": "[encoded data removed]",
      "text/plain": [
       "<Figure size 432x288 with 1 Axes>"
      ]
     },
     "metadata": {
      "image/png": {
       "height": 265,
       "width": 386
      }
     },
     "output_type": "display_data"
    }
   ],
   "source": [
    "fig, ax = plt.subplots()\n",
    "ax.plot(t/60,D*10**6, label=' M98 model')\n",
    "ax.set_xscale('log'),\n",
    "ax.set_xlabel('Time [min]')\n",
    "ax.set_ylabel('Floc Size, $D_{50}$  [$\\mu m$]')\n",
    "legend()\n",
    "print('The equilibrium floc size is:', around(Dfe[0]*10**6,decimals=1),'[µm]')"
   ]
  },
  {
   "cell_type": "code",
   "execution_count": null,
   "metadata": {},
   "outputs": [],
   "source": []
  }
 ],
 "metadata": {
  "kernelspec": {
   "display_name": "Python 3",
   "language": "python",
   "name": "python3"
  },
  "language_info": {
   "codemirror_mode": {
    "name": "ipython",
    "version": 3
   },
   "file_extension": ".py",
   "mimetype": "text/x-python",
   "name": "python",
   "nbconvert_exporter": "python",
   "pygments_lexer": "ipython3",
   "version": "3.6.5"
  }
 },
 "nbformat": 4,
 "nbformat_minor": 2
}
